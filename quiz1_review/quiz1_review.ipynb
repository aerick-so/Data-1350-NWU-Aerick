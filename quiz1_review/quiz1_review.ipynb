{
 "cells": [
  {
   "cell_type": "code",
   "execution_count": 2,
   "id": "f17491a7",
   "metadata": {},
   "outputs": [],
   "source": [
    "from datascience import *\n",
    "import numpy as np\n",
    "\n",
    "%matplotlib inline\n",
    "import matplotlib.pyplot as plots\n",
    "plots.style.use('fivethirtyeight')"
   ]
  },
  {
   "cell_type": "code",
   "execution_count": 17,
   "id": "2952ffaf",
   "metadata": {},
   "outputs": [
    {
     "data": {
      "text/html": [
       "<table border=\"1\" class=\"dataframe\">\n",
       "    <thead>\n",
       "        <tr>\n",
       "            <th>Votes</th> <th>Rating</th> <th>Title</th> <th>Year</th> <th>Decade</th>\n",
       "        </tr>\n",
       "    </thead>\n",
       "    <tbody>\n",
       "        <tr>\n",
       "            <td>88355 </td> <td>8.4   </td> <td>M                  </td> <td>1931</td> <td>1930  </td>\n",
       "        </tr>\n",
       "        <tr>\n",
       "            <td>132823</td> <td>8.3   </td> <td>Singin' in the Rain</td> <td>1952</td> <td>1950  </td>\n",
       "        </tr>\n",
       "        <tr>\n",
       "            <td>74178 </td> <td>8.3   </td> <td>All About Eve      </td> <td>1950</td> <td>1950  </td>\n",
       "        </tr>\n",
       "        <tr>\n",
       "            <td>635139</td> <td>8.6   </td> <td>Léon               </td> <td>1994</td> <td>1990  </td>\n",
       "        </tr>\n",
       "        <tr>\n",
       "            <td>145514</td> <td>8.2   </td> <td>The Elephant Man   </td> <td>1980</td> <td>1980  </td>\n",
       "        </tr>\n",
       "    </tbody>\n",
       "</table>\n",
       "<p>... (245 rows omitted)</p>"
      ],
      "text/plain": [
       "<IPython.core.display.HTML object>"
      ]
     },
     "metadata": {},
     "output_type": "display_data"
    }
   ],
   "source": [
    "imdb = Table.read_table('imdb.csv')\n",
    "imdb.show(5)"
   ]
  },
  {
   "cell_type": "markdown",
   "id": "5b089e0f",
   "metadata": {},
   "source": [
    "# Question 1\n",
    "Find the ten movies released in the year 2000 or later with the highest number of votes according to imdb.csv. Format your answer as a table with columns Title and Votes (in that order) of the three requested movies."
   ]
  },
  {
   "cell_type": "code",
   "execution_count": 21,
   "id": "424c9498",
   "metadata": {},
   "outputs": [
    {
     "ename": "AttributeError",
     "evalue": "module 'numpy' has no attribute 'arrange'",
     "output_type": "error",
     "traceback": [
      "\u001b[31m---------------------------------------------------------------------------\u001b[39m",
      "\u001b[31mAttributeError\u001b[39m                            Traceback (most recent call last)",
      "\u001b[36mCell\u001b[39m\u001b[36m \u001b[39m\u001b[32mIn[21]\u001b[39m\u001b[32m, line 3\u001b[39m\n\u001b[32m      1\u001b[39m movies2000 = imdb.where(\u001b[33m'\u001b[39m\u001b[33mYear\u001b[39m\u001b[33m'\u001b[39m,are.above_or_equal_to(\u001b[32m2000\u001b[39m))\n\u001b[32m      2\u001b[39m movies2000sorted = movies2000.sort(\u001b[33m'\u001b[39m\u001b[33mVotes\u001b[39m\u001b[33m'\u001b[39m , descending = \u001b[38;5;28;01mTrue\u001b[39;00m)\n\u001b[32m----> \u001b[39m\u001b[32m3\u001b[39m movies2000top10 = movies2000sorted.take(\u001b[43mnp\u001b[49m\u001b[43m.\u001b[49m\u001b[43marrange\u001b[49m(\u001b[32m0\u001b[39m,\u001b[32m10\u001b[39m))\n\u001b[32m      4\u001b[39m moviesfinal = movies2000top10.select (\u001b[33m\"\u001b[39m\u001b[33mTitle\u001b[39m\u001b[33m\"\u001b[39m, \u001b[33m\"\u001b[39m\u001b[33mVotes\u001b[39m\u001b[33m\"\u001b[39m)\n\u001b[32m      5\u001b[39m moviesfinal.show()\n",
      "\u001b[36mFile \u001b[39m\u001b[32m~/.local/lib/python3.12/site-packages/numpy/__init__.py:795\u001b[39m, in \u001b[36m__getattr__\u001b[39m\u001b[34m(attr)\u001b[39m\n\u001b[32m    792\u001b[39m     \u001b[38;5;28;01mimport\u001b[39;00m\u001b[38;5;250m \u001b[39m\u001b[34;01mnumpy\u001b[39;00m\u001b[34;01m.\u001b[39;00m\u001b[34;01mchar\u001b[39;00m\u001b[38;5;250m \u001b[39m\u001b[38;5;28;01mas\u001b[39;00m\u001b[38;5;250m \u001b[39m\u001b[34;01mchar\u001b[39;00m\n\u001b[32m    793\u001b[39m     \u001b[38;5;28;01mreturn\u001b[39;00m char.chararray\n\u001b[32m--> \u001b[39m\u001b[32m795\u001b[39m \u001b[38;5;28;01mraise\u001b[39;00m \u001b[38;5;167;01mAttributeError\u001b[39;00m(\u001b[33mf\u001b[39m\u001b[33m\"\u001b[39m\u001b[33mmodule \u001b[39m\u001b[38;5;132;01m{\u001b[39;00m\u001b[34m__name__\u001b[39m\u001b[38;5;132;01m!r}\u001b[39;00m\u001b[33m has no attribute \u001b[39m\u001b[38;5;132;01m{\u001b[39;00mattr\u001b[38;5;132;01m!r}\u001b[39;00m\u001b[33m\"\u001b[39m)\n",
      "\u001b[31mAttributeError\u001b[39m: module 'numpy' has no attribute 'arrange'"
     ]
    }
   ],
   "source": [
    "movies2000 = imdb.where('Year',are.above_or_equal_to(2000))\n",
    "movies2000sorted = movies2000.sort('Votes' , descending = True)\n",
    "movies2000top10 = movies2000sorted.take(np.arrange(0,10))\n",
    "moviesfinal = movies2000top10.select (\"Title\", \"Votes\")\n",
    "moviesfinal.show()"
   ]
  },
  {
   "cell_type": "markdown",
   "id": "ce5d30cb",
   "metadata": {},
   "source": [
    "# Question 2\n",
    "\n",
    "Create a table with columns Title and Votes containing all movies released in 1999.\n",
    "\n",
    "Next, attach a new column to the table called Percent Votes that contains the percent of votes each movie received when considered among all votes cast for movies released in 1999.\n",
    "\n",
    "For example, if the total number of votes cast for movies released in 1999 is 200 and \"The Matrix\" received 30 of them, then the column Percent Votes corresponding to \"The Matrix\" should 15."
   ]
  },
  {
   "cell_type": "code",
   "execution_count": 34,
   "id": "e52b9dde",
   "metadata": {},
   "outputs": [
    {
     "data": {
      "text/html": [
       "<table border=\"1\" class=\"dataframe\">\n",
       "    <thead>\n",
       "        <tr>\n",
       "            <th>Title</th> <th>Votes</th> <th>Percent Votes</th>\n",
       "        </tr>\n",
       "    </thead>\n",
       "    <tbody>\n",
       "        <tr>\n",
       "            <td>Fight Club     </td> <td>1177098</td> <td>27.4441      </td>\n",
       "        </tr>\n",
       "        <tr>\n",
       "            <td>American Beauty</td> <td>735056 </td> <td>17.1379      </td>\n",
       "        </tr>\n",
       "        <tr>\n",
       "            <td>The Sixth Sense</td> <td>630994 </td> <td>14.7117      </td>\n",
       "        </tr>\n",
       "        <tr>\n",
       "            <td>The Matrix     </td> <td>1073043</td> <td>25.0181      </td>\n",
       "        </tr>\n",
       "        <tr>\n",
       "            <td>The Green Mile </td> <td>672878 </td> <td>15.6882      </td>\n",
       "        </tr>\n",
       "    </tbody>\n",
       "</table>"
      ],
      "text/plain": [
       "<IPython.core.display.HTML object>"
      ]
     },
     "metadata": {},
     "output_type": "display_data"
    }
   ],
   "source": [
    "movies1999 = imdb.where('Year', 1999)\n",
    "movies1999 = movies1999.select('Title', 'Votes')\n",
    "votes_column = movies1999.column('Votes')\n",
    "total_votes = sum(votes_column)\n",
    "percent_column = votes_column / total_votes * 100\n",
    "movies1999 = movies1999.with_column('Percent Votes', percent_column)\n",
    "movies1999.show()\n",
    "\n"
   ]
  },
  {
   "cell_type": "code",
   "execution_count": null,
   "id": "10f33b12",
   "metadata": {},
   "outputs": [],
   "source": []
  }
 ],
 "metadata": {
  "kernelspec": {
   "display_name": "Python 3",
   "language": "python",
   "name": "python3"
  },
  "language_info": {
   "codemirror_mode": {
    "name": "ipython",
    "version": 3
   },
   "file_extension": ".py",
   "mimetype": "text/x-python",
   "name": "python",
   "nbconvert_exporter": "python",
   "pygments_lexer": "ipython3",
   "version": "3.12.1"
  }
 },
 "nbformat": 4,
 "nbformat_minor": 5
}
